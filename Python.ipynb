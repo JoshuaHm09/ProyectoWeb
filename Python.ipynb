{
  "nbformat": 4,
  "nbformat_minor": 0,
  "metadata": {
    "colab": {
      "provenance": [],
      "authorship_tag": "ABX9TyNI2uPZerzIe1GPnZNQT6ed",
      "include_colab_link": true
    },
    "kernelspec": {
      "name": "python3",
      "display_name": "Python 3"
    },
    "language_info": {
      "name": "python"
    }
  },
  "cells": [
    {
      "cell_type": "markdown",
      "metadata": {
        "id": "view-in-github",
        "colab_type": "text"
      },
      "source": [
        "<a href=\"https://colab.research.google.com/github/JoshuaHm09/ProyectoWeb/blob/master/Python.ipynb\" target=\"_parent\"><img src=\"https://colab.research.google.com/assets/colab-badge.svg\" alt=\"Open In Colab\"/></a>"
      ]
    },
    {
      "cell_type": "code",
      "execution_count": null,
      "metadata": {
        "colab": {
          "base_uri": "https://localhost:8080/"
        },
        "id": "uZeBT9A1Ji6V",
        "outputId": "4738e7db-d49e-4e63-c047-1277b2a7abb3"
      },
      "outputs": [
        {
          "output_type": "stream",
          "name": "stdout",
          "text": [
            "Ingresa un numero, para verificar si es par o impar: 18\n",
            "Es un Numero es par\n"
          ]
        }
      ],
      "source": [
        "# Par o impar\n",
        "\n",
        "numero = int(input(\"Ingresa un numero, para verificar si es par o impar: \"))\n",
        "1\n",
        "if numero % 2 == 0:\n",
        "  print(\"Es un Numero es par\")\n",
        "else:\n",
        "  print(\"Es un numero Impar\")"
      ]
    },
    {
      "cell_type": "code",
      "source": [
        "# Solicitud de dos numero y verificar cual es mayor\n",
        "\n",
        "numero_1 = int(input(\"Ingresar primer numero: \"))\n",
        "numero_2 = int(input(\"Ingresar segundo numero: \"))\n",
        "\n",
        "if numero_1 > numero_2:\n",
        "  print(f\"El numero mayor es {numero_1}\")\n",
        "elif numero_2 > numero_1:\n",
        "    print(f\"El numero mayor es{numero_2}\")\n",
        "elif numero_2 == numero_1 and numero_1 == numero_2:\n",
        "  print(\"Ambos numeros son iguales\")"
      ],
      "metadata": {
        "colab": {
          "base_uri": "https://localhost:8080/"
        },
        "id": "U-RysR4PJqCO",
        "outputId": "2ce469fd-6975-4dc5-9e8a-724c539e78b0"
      },
      "execution_count": null,
      "outputs": [
        {
          "output_type": "stream",
          "name": "stdout",
          "text": [
            "Ingresar primer numero: 50\n",
            "Ingresar segundo numero: 50\n",
            "Ambos numeros son iguales\n"
          ]
        }
      ]
    },
    {
      "cell_type": "code",
      "source": [
        "#Calculadora simple\n",
        "\n",
        "primer_numero = int(input(\"Ingresa un numero: \"))\n",
        "segundo_numero = int(input(\"Ingresa otro numero: \"))\n",
        "\n",
        "print('Eliga una de las siguientes opciones: A) multiplicacion, B) division, C) resta, D) suma')\n",
        "\n",
        "opciones = [\"a\",\"b\",\"c\",\"d\"]\n",
        "\n",
        "resultado = input()\n",
        "\n",
        "multiplicacion = primer_numero * segundo_numero\n",
        "division = primer_numero / segundo_numero\n",
        "resta = primer_numero - segundo_numero\n",
        "suma = primer_numero + segundo_numero\n",
        "\n",
        "if resultado == 'a':\n",
        "  print(\"El resultado de la multiplicacion es: \", multiplicacion)\n",
        "elif resultado == 'b':\n",
        "  print(\"El resultado de la divison es: \", division)\n",
        "elif resultado == 'c':\n",
        "  print(\"El resultado de la resta es: \", resta)\n",
        "elif resultado == 'd':\n",
        "  print(\"El resultado de la suma es: \", suma)"
      ],
      "metadata": {
        "colab": {
          "base_uri": "https://localhost:8080/"
        },
        "id": "7nRJnBd4NlUR",
        "outputId": "3b4e48df-e8a1-4ac6-b35c-580f590393fe"
      },
      "execution_count": null,
      "outputs": [
        {
          "output_type": "stream",
          "name": "stdout",
          "text": [
            "Ingresa un numero: 120\n",
            "Ingresa otro numero: 400\n",
            "Eliga una de las siguientes opciones: A) multiplicacion, B) division, C) resta, D) suma\n",
            "d\n",
            "El resultado de la suma es:  520\n"
          ]
        }
      ]
    },
    {
      "cell_type": "code",
      "source": [
        "#Tabla de multiplicar\n",
        "\n",
        "numero = int(input(\"Ingresa un numero, y te muestro su tabla de multiplicar: \"))\n",
        "\n",
        "print(f'{numero} x 1 = {numero * 1} ' )\n",
        "print(f'{numero} x 2 = {numero * 2} ' )\n",
        "print(f'{numero} x 3 = {numero * 3} ' )\n",
        "print(f'{numero} x 4 = {numero * 4} ' )\n",
        "print(f'{numero} x 5 = {numero * 5} ' )\n",
        "print(f'{numero} x 6 = {numero * 6} ' )\n",
        "print(f'{numero} x 7 = {numero * 7} ' )\n",
        "print(f'{numero} x 8 = {numero * 8} ' )\n",
        "print(f'{numero} x 9 = {numero * 9} ' )\n",
        "print(f'{numero} x 10 = {numero * 10} ' )"
      ],
      "metadata": {
        "colab": {
          "base_uri": "https://localhost:8080/"
        },
        "id": "C9oHA6S0Pu6r",
        "outputId": "acdae601-0745-4476-b4f0-59664e35dabd"
      },
      "execution_count": null,
      "outputs": [
        {
          "output_type": "stream",
          "name": "stdout",
          "text": [
            "Ingresa un numero, y te muestro su tabla de multiplicar: 9\n",
            "9 x 1 = 9 \n",
            "9 x 2 = 18 \n",
            "9 x 3 = 27 \n",
            "9 x 4 = 36 \n",
            "9 x 5 = 45 \n",
            "9 x 6 = 54 \n",
            "9 x 7 = 63 \n",
            "9 x 8 = 72 \n",
            "9 x 9 = 81 \n",
            "9 x 10 = 90 \n"
          ]
        }
      ]
    },
    {
      "cell_type": "code",
      "source": [
        "# Contador de vocales\n",
        "\n",
        "palabra = input(\"Ingresa una palabra: \")\n",
        "\n",
        "\n",
        "vocales = ['a', 'e', 'i', 'o', 'u']\n",
        "contador = 0\n",
        "\n",
        "for letra in palabra:\n",
        "  if letra.lower() in vocales:\n",
        "    contador += 1\n",
        "\n",
        "print(f'La cantidad de vocales que hay son:  {contador}')"
      ],
      "metadata": {
        "colab": {
          "base_uri": "https://localhost:8080/"
        },
        "id": "2CC5JDYtU1OJ",
        "outputId": "2c37b25c-412f-4ba9-948c-320c00d8b858"
      },
      "execution_count": null,
      "outputs": [
        {
          "output_type": "stream",
          "name": "stdout",
          "text": [
            "Ingresa una palabrahola\n",
            "La cantidad de vocales que hay son:  2\n"
          ]
        }
      ]
    },
    {
      "cell_type": "code",
      "source": [
        "#Verificar si una palabra esta en mayuscula\n",
        "\n",
        "palabra = input(\"Escribe cualquier palabra: \")\n",
        "\n",
        "if palabra.isupper():\n",
        "  print(\"Esta escrito en mayuscula\")\n",
        "else:\n",
        "    print(\"No esta en mayuscula\")"
      ],
      "metadata": {
        "colab": {
          "base_uri": "https://localhost:8080/"
        },
        "id": "6hd3y_I5bC_C",
        "outputId": "7a596b9d-bf9b-4adc-a843-a1e8f022ac2b"
      },
      "execution_count": null,
      "outputs": [
        {
          "output_type": "stream",
          "name": "stdout",
          "text": [
            "Escribe cualquier palabra: hola soy goku\n",
            "No esta en mayuscula\n"
          ]
        }
      ]
    },
    {
      "cell_type": "code",
      "source": [
        "#Determinando el mayor numero de los 3\n",
        "\n",
        "numero_1 = int(input(\"Ingresa el primer numero: \"))\n",
        "numero_2 = int(input(\"Ingresa el segundo numero: \"))\n",
        "numero_3 = int(input(\"Ingresa el tercer numero: \"))\n",
        "\n",
        "if numero_1 > numero_2 and numero_1 > numero_3:\n",
        " print(f'El numero mayor es:{numero_1}')\n",
        "elif numero_2 > numero_1 and numero_2 > numero_3:\n",
        " print(f'El numero mayor es:{numero_2}')\n",
        "elif numero_3 > numero_1 and numero_3 > numero_2:\n",
        " print(f'El numero mayor es:{numero_3}')\n",
        "else:\n",
        "  print(\"Son el mismo numero\")"
      ],
      "metadata": {
        "colab": {
          "base_uri": "https://localhost:8080/"
        },
        "id": "Ka9NqGPhn86Q",
        "outputId": "e0c831ae-52a2-4f05-f6c5-7f946260907a"
      },
      "execution_count": null,
      "outputs": [
        {
          "output_type": "stream",
          "name": "stdout",
          "text": [
            "Ingresa el primer numero: 10\n",
            "Ingresa el segundo numero: 10\n",
            "Ingresa el tercer numero: 10\n",
            "Son el mismo numero\n"
          ]
        }
      ]
    },
    {
      "cell_type": "code",
      "source": [
        "#Persona mayor de edad\n",
        "\n",
        "Edad = int(input(\"Escriba su edad: \"))\n",
        "\n",
        "if Edad >= 18:\n",
        "  print(\"Puedes pasar\")\n",
        "else:\n",
        "  print(\"Eres menor, no puedes pasar\")"
      ],
      "metadata": {
        "colab": {
          "base_uri": "https://localhost:8080/"
        },
        "id": "ZaB1Qat4wHa1",
        "outputId": "d4bb8ecc-ac44-4726-c238-b45920a490d5"
      },
      "execution_count": null,
      "outputs": [
        {
          "output_type": "stream",
          "name": "stdout",
          "text": [
            "Escriba su edad: 56\n",
            "Puedes pasar\n"
          ]
        }
      ]
    },
    {
      "cell_type": "code",
      "source": [
        ""
      ],
      "metadata": {
        "id": "N6Mmfqjg3w7b"
      },
      "execution_count": null,
      "outputs": []
    }
  ]
}